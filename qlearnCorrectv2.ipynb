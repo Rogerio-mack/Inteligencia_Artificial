{
  "cells": [
    {
      "cell_type": "markdown",
      "metadata": {
        "id": "view-in-github",
        "colab_type": "text"
      },
      "source": [
        "<a href=\"https://colab.research.google.com/github/Rogerio-mack/Inteligencia_Artificial/blob/main/qlearnCorrectv2.ipynb\" target=\"_parent\"><img src=\"https://colab.research.google.com/assets/colab-badge.svg\" alt=\"Open In Colab\"/></a>"
      ]
    },
    {
      "cell_type": "code",
      "execution_count": null,
      "metadata": {
        "id": "2ZcS-Y5reBZB"
      },
      "outputs": [],
      "source": [
        "import random\n",
        "import json\n",
        "import gym\n",
        "from gym import spaces\n",
        "import pandas as pd\n",
        "import numpy as np\n",
        "\n",
        "class handMove(gym.Env):\n",
        "    \"\"\"Function Approximation environment for OpenAI gym\"\"\"\n",
        "    metadata = {'render.modes': ['human']}\n",
        "\n",
        "    def __init__(self, what=0):\n",
        "        super(handMove, self).__init__()\n",
        "\n",
        "        # Added ----------------------------------------------------------------\n",
        "        self.what = what\n",
        "        self.actions = ['Go right','Go left','Go up','Go down']  \n",
        "        self.observations = ['It is right','It is left','It is up','It is down']  \n",
        "        \n",
        "        self.goal = {}\n",
        "        for i in range(len(self.observations)):\n",
        "          self.goal[self.observations[i]] = self.actions[i]\n",
        "        self.reward_values = {'right action': 1, \n",
        "                              'wrong action': -1}\n",
        "        # Added ----------------------------------------------------------------\n",
        "\n",
        "        self.reward_range = (-1, 1)\n",
        "        self.action_space = spaces.Discrete(len(self.actions))\n",
        "        self.observation_space = spaces.Discrete(len(self.observations))\n",
        "\n",
        "    def _next_observation(self):\n",
        "        return random.randint(0,len(self.observations)-1)\n",
        "\n",
        "    def _take_action(self, action):\n",
        "        return action\n",
        "\n",
        "    def step(self, action):\n",
        "    \n",
        "        self._take_action(action)\n",
        "\n",
        "        if self.goal[self.decode_actions_observations(self.what,action=False)] ==  self.decode_actions_observations(action):\n",
        "          reward = self.reward_values['right action']\n",
        "        else:\n",
        "          reward = self.reward_values['wrong action']\n",
        "        \n",
        "        observation = self.what\n",
        "        self.what = self._next_observation()\n",
        "\n",
        "        done = False               # gym, must be a boolean!\n",
        "        p = 1.0 \n",
        "\n",
        "        return observation, reward, done, {\"prob\": p}\n",
        "\n",
        "    def reset(self):\n",
        "        self.what = random.randint(0,len(self.observations)-1)\n",
        "        return self.what\n",
        "\n",
        "    def render(self, mode='human', close=False):\n",
        "        print('what: \\t\\t\\t:', self.what)\n",
        "        print('goal: \\t\\t\\t:', self.goal)\n",
        "        print('reward: \\t\\t:', self.reward_values)\n",
        "        return  \n",
        "\n",
        "    # Added ----------------------------------------------------------------\n",
        "    def encode_actions_observations(self,action_observation,action=True):\n",
        "        if action:\n",
        "          return self.actions.index(action_observation)\n",
        "        else: # it's a observation\n",
        "          return self.observations.index(action_observation)\n",
        "        return \n",
        "\n",
        "    def decode_actions_observations(self,action_observation_placehold,action=True):\n",
        "        if action:\n",
        "          return self.actions[action_observation_placehold]\n",
        "        else: # it's a observation\n",
        "          return self.observations[action_observation_placehold]\n",
        "        return       \n",
        "    # Added ----------------------------------------------------------------"
      ]
    },
    {
      "cell_type": "code",
      "execution_count": null,
      "metadata": {
        "id": "zFaXEckmh0FB"
      },
      "outputs": [],
      "source": [
        "env = handMove(0)"
      ]
    },
    {
      "cell_type": "code",
      "execution_count": null,
      "metadata": {
        "colab": {
          "base_uri": "https://localhost:8080/"
        },
        "id": "Nn3fM8umn2IS",
        "outputId": "2064da28-7333-46dc-ae8b-f19e2772f254"
      },
      "outputs": [
        {
          "output_type": "execute_result",
          "data": {
            "text/plain": [
              "['__class__',\n",
              " '__delattr__',\n",
              " '__dict__',\n",
              " '__dir__',\n",
              " '__doc__',\n",
              " '__enter__',\n",
              " '__eq__',\n",
              " '__exit__',\n",
              " '__format__',\n",
              " '__ge__',\n",
              " '__getattribute__',\n",
              " '__gt__',\n",
              " '__hash__',\n",
              " '__init__',\n",
              " '__init_subclass__',\n",
              " '__le__',\n",
              " '__lt__',\n",
              " '__module__',\n",
              " '__ne__',\n",
              " '__new__',\n",
              " '__reduce__',\n",
              " '__reduce_ex__',\n",
              " '__repr__',\n",
              " '__setattr__',\n",
              " '__sizeof__',\n",
              " '__str__',\n",
              " '__subclasshook__',\n",
              " '__weakref__',\n",
              " '_next_observation',\n",
              " '_take_action',\n",
              " 'action_space',\n",
              " 'actions',\n",
              " 'close',\n",
              " 'decode_actions_observations',\n",
              " 'encode_actions_observations',\n",
              " 'goal',\n",
              " 'metadata',\n",
              " 'observation_space',\n",
              " 'observations',\n",
              " 'render',\n",
              " 'reset',\n",
              " 'reward_range',\n",
              " 'reward_values',\n",
              " 'seed',\n",
              " 'spec',\n",
              " 'step',\n",
              " 'unwrapped',\n",
              " 'what']"
            ]
          },
          "metadata": {},
          "execution_count": 87
        }
      ],
      "source": [
        "dir(env)"
      ]
    },
    {
      "cell_type": "code",
      "execution_count": null,
      "metadata": {
        "colab": {
          "base_uri": "https://localhost:8080/"
        },
        "id": "PMJU6okrt7GC",
        "outputId": "ed9aa2cd-7b46-4458-cc72-f7be41bca123"
      },
      "outputs": [
        {
          "output_type": "execute_result",
          "data": {
            "text/plain": [
              "0"
            ]
          },
          "metadata": {},
          "execution_count": 88
        }
      ],
      "source": [
        "env.what"
      ]
    },
    {
      "cell_type": "code",
      "execution_count": null,
      "metadata": {
        "colab": {
          "base_uri": "https://localhost:8080/",
          "height": 36
        },
        "id": "llRjb33m8U3z",
        "outputId": "db2a6238-4bc4-4fdb-f2fb-651c163e8163"
      },
      "outputs": [
        {
          "output_type": "execute_result",
          "data": {
            "text/plain": [
              "'It is right'"
            ],
            "application/vnd.google.colaboratory.intrinsic+json": {
              "type": "string"
            }
          },
          "metadata": {},
          "execution_count": 89
        }
      ],
      "source": [
        "env.decode_actions_observations(env.what,action=False)"
      ]
    },
    {
      "cell_type": "code",
      "execution_count": null,
      "metadata": {
        "colab": {
          "base_uri": "https://localhost:8080/"
        },
        "id": "camaItjjkn2b",
        "outputId": "9e32278e-e8bf-4257-fc45-556d98f103dc"
      },
      "outputs": [
        {
          "output_type": "execute_result",
          "data": {
            "text/plain": [
              "['Go right', 'Go left', 'Go up', 'Go down']"
            ]
          },
          "metadata": {},
          "execution_count": 90
        }
      ],
      "source": [
        "env.actions"
      ]
    },
    {
      "cell_type": "code",
      "execution_count": null,
      "metadata": {
        "colab": {
          "base_uri": "https://localhost:8080/"
        },
        "id": "4Dy_y82wr-q7",
        "outputId": "b96852a1-1ba8-430b-b87b-0a422593e3cc"
      },
      "outputs": [
        {
          "output_type": "execute_result",
          "data": {
            "text/plain": [
              "['It is right', 'It is left', 'It is up', 'It is down']"
            ]
          },
          "metadata": {},
          "execution_count": 91
        }
      ],
      "source": [
        "env.observations"
      ]
    },
    {
      "cell_type": "code",
      "execution_count": null,
      "metadata": {
        "colab": {
          "base_uri": "https://localhost:8080/"
        },
        "id": "u7Tl-J9nsDoo",
        "outputId": "76a20d65-f409-4e0a-a73f-d321026ef3dd"
      },
      "outputs": [
        {
          "output_type": "execute_result",
          "data": {
            "text/plain": [
              "2"
            ]
          },
          "metadata": {},
          "execution_count": 92
        }
      ],
      "source": [
        "env.action_space.sample()"
      ]
    },
    {
      "cell_type": "code",
      "execution_count": null,
      "metadata": {
        "colab": {
          "base_uri": "https://localhost:8080/"
        },
        "id": "bbfjGkAXsFCR",
        "outputId": "cd06c9ea-7570-4788-8e12-2f027d12b2ba"
      },
      "outputs": [
        {
          "output_type": "execute_result",
          "data": {
            "text/plain": [
              "2"
            ]
          },
          "metadata": {},
          "execution_count": 93
        }
      ],
      "source": [
        "env.observation_space.sample()"
      ]
    },
    {
      "cell_type": "code",
      "execution_count": null,
      "metadata": {
        "colab": {
          "base_uri": "https://localhost:8080/"
        },
        "id": "exedj5B_kuka",
        "outputId": "a7ffc006-1d26-4b81-ee7d-ebdc50726601"
      },
      "outputs": [
        {
          "output_type": "stream",
          "name": "stdout",
          "text": [
            "Go down\n",
            "Go right\n",
            "Go left\n",
            "Go left\n",
            "Go left\n",
            "Go down\n",
            "Go left\n",
            "Go up\n",
            "Go up\n",
            "Go up\n"
          ]
        }
      ],
      "source": [
        "for i in range(10):\n",
        "  print(env.decode_actions_observations(env.action_space.sample())) "
      ]
    },
    {
      "cell_type": "code",
      "execution_count": null,
      "metadata": {
        "colab": {
          "base_uri": "https://localhost:8080/"
        },
        "id": "rrArqSL_sS64",
        "outputId": "0b90caaa-8206-47cb-86cf-164c9d5d9470"
      },
      "outputs": [
        {
          "output_type": "stream",
          "name": "stdout",
          "text": [
            "It is left\n",
            "It is up\n",
            "It is right\n",
            "It is right\n",
            "It is left\n",
            "It is left\n",
            "It is right\n",
            "It is right\n",
            "It is right\n",
            "It is up\n"
          ]
        }
      ],
      "source": [
        "for i in range(10):\n",
        "  print(env.decode_actions_observations(env.observation_space.sample(),action=False)) "
      ]
    },
    {
      "cell_type": "code",
      "execution_count": null,
      "metadata": {
        "colab": {
          "base_uri": "https://localhost:8080/"
        },
        "id": "tPdo5cAkvJvR",
        "outputId": "20275f8d-3a03-4b13-877c-02628452f6c4"
      },
      "outputs": [
        {
          "output_type": "execute_result",
          "data": {
            "text/plain": [
              "3"
            ]
          },
          "metadata": {},
          "execution_count": 96
        }
      ],
      "source": [
        "env._next_observation()"
      ]
    },
    {
      "cell_type": "code",
      "execution_count": null,
      "metadata": {
        "colab": {
          "base_uri": "https://localhost:8080/"
        },
        "id": "LFEkzJJssgQR",
        "outputId": "0a8dcf89-9869-4399-f68e-7090e497e9dd"
      },
      "outputs": [
        {
          "output_type": "stream",
          "name": "stdout",
          "text": [
            "0 3 (0, -1, False, {'prob': 1.0})\n",
            "It is up Go down (2, -1, False, {'prob': 1.0})\n",
            "0 3 (0, -1, False, {'prob': 1.0})\n",
            "It is right Go down (0, -1, False, {'prob': 1.0})\n",
            "2 3 (2, -1, False, {'prob': 1.0})\n",
            "It is right Go down (0, -1, False, {'prob': 1.0})\n",
            "0 0 (0, 1, False, {'prob': 1.0})\n",
            "It is right Go right (0, 1, False, {'prob': 1.0})\n",
            "2 1 (2, -1, False, {'prob': 1.0})\n",
            "It is left Go left (1, 1, False, {'prob': 1.0})\n",
            "1 2 (1, -1, False, {'prob': 1.0})\n",
            "It is up Go up (2, 1, False, {'prob': 1.0})\n",
            "1 0 (1, -1, False, {'prob': 1.0})\n",
            "It is down Go right (3, -1, False, {'prob': 1.0})\n",
            "2 0 (2, -1, False, {'prob': 1.0})\n",
            "It is up Go right (2, -1, False, {'prob': 1.0})\n",
            "2 3 (2, -1, False, {'prob': 1.0})\n",
            "It is up Go down (2, -1, False, {'prob': 1.0})\n",
            "0 2 (0, -1, False, {'prob': 1.0})\n",
            "It is up Go up (2, 1, False, {'prob': 1.0})\n",
            "0 2 (0, -1, False, {'prob': 1.0})\n",
            "It is left Go up (1, -1, False, {'prob': 1.0})\n",
            "2 1 (2, -1, False, {'prob': 1.0})\n",
            "It is down Go left (3, -1, False, {'prob': 1.0})\n",
            "0 3 (0, -1, False, {'prob': 1.0})\n",
            "It is right Go down (0, -1, False, {'prob': 1.0})\n",
            "1 3 (1, -1, False, {'prob': 1.0})\n",
            "It is left Go down (1, -1, False, {'prob': 1.0})\n",
            "0 3 (0, -1, False, {'prob': 1.0})\n",
            "It is right Go down (0, -1, False, {'prob': 1.0})\n",
            "2 1 (2, -1, False, {'prob': 1.0})\n",
            "It is down Go left (3, -1, False, {'prob': 1.0})\n",
            "2 0 (2, -1, False, {'prob': 1.0})\n",
            "It is left Go right (1, -1, False, {'prob': 1.0})\n",
            "3 1 (3, -1, False, {'prob': 1.0})\n",
            "It is down Go left (3, -1, False, {'prob': 1.0})\n",
            "2 2 (2, 1, False, {'prob': 1.0})\n",
            "It is down Go up (3, -1, False, {'prob': 1.0})\n",
            "1 0 (1, -1, False, {'prob': 1.0})\n",
            "It is left Go right (1, -1, False, {'prob': 1.0})\n"
          ]
        }
      ],
      "source": [
        "for i in range(20):\n",
        "  action = env.action_space.sample()\n",
        "  print(env.what, action, env.step(action))\n",
        "  print(env.decode_actions_observations(env.what,action=False), env.decode_actions_observations(action), env.step(action))\n",
        "  # env.what = env._next_observation()"
      ]
    },
    {
      "cell_type": "code",
      "execution_count": null,
      "metadata": {
        "colab": {
          "base_uri": "https://localhost:8080/"
        },
        "id": "50sMKV2Kv-Vb",
        "outputId": "22d32bd7-0990-44e2-d240-e9f070e0d0f9"
      },
      "outputs": [
        {
          "output_type": "execute_result",
          "data": {
            "text/plain": [
              "2"
            ]
          },
          "metadata": {},
          "execution_count": 98
        }
      ],
      "source": [
        "env.reset()"
      ]
    },
    {
      "cell_type": "code",
      "execution_count": null,
      "metadata": {
        "colab": {
          "base_uri": "https://localhost:8080/"
        },
        "id": "EoPPFpEZwG2A",
        "outputId": "2c241dcd-3267-498a-b482-728e60cef034"
      },
      "outputs": [
        {
          "output_type": "stream",
          "name": "stdout",
          "text": [
            "what: \t\t\t: 2\n",
            "goal: \t\t\t: {'It is right': 'Go right', 'It is left': 'Go left', 'It is up': 'Go up', 'It is down': 'Go down'}\n",
            "reward: \t\t: {'right action': 1, 'wrong action': -1}\n"
          ]
        }
      ],
      "source": [
        "env.render()"
      ]
    },
    {
      "cell_type": "code",
      "execution_count": null,
      "metadata": {
        "colab": {
          "base_uri": "https://localhost:8080/",
          "height": 175
        },
        "id": "aWCW1g-HxWc8",
        "outputId": "7d6f7118-21f7-4d3b-c836-0b92bab545b5"
      },
      "outputs": [
        {
          "output_type": "display_data",
          "data": {
            "text/plain": [
              "             Go right  Go left  Go up  Go down\n",
              "It is right       0.0      0.0    0.0      0.0\n",
              "It is left        0.0      0.0    0.0      0.0\n",
              "It is up          0.0      0.0    0.0      0.0\n",
              "It is down        0.0      0.0    0.0      0.0"
            ],
            "text/html": [
              "\n",
              "  <div id=\"df-43fd9919-95e2-47f1-9f0d-756c43cbe5b1\">\n",
              "    <div class=\"colab-df-container\">\n",
              "      <div>\n",
              "<style scoped>\n",
              "    .dataframe tbody tr th:only-of-type {\n",
              "        vertical-align: middle;\n",
              "    }\n",
              "\n",
              "    .dataframe tbody tr th {\n",
              "        vertical-align: top;\n",
              "    }\n",
              "\n",
              "    .dataframe thead th {\n",
              "        text-align: right;\n",
              "    }\n",
              "</style>\n",
              "<table border=\"1\" class=\"dataframe\">\n",
              "  <thead>\n",
              "    <tr style=\"text-align: right;\">\n",
              "      <th></th>\n",
              "      <th>Go right</th>\n",
              "      <th>Go left</th>\n",
              "      <th>Go up</th>\n",
              "      <th>Go down</th>\n",
              "    </tr>\n",
              "  </thead>\n",
              "  <tbody>\n",
              "    <tr>\n",
              "      <th>It is right</th>\n",
              "      <td>0.0</td>\n",
              "      <td>0.0</td>\n",
              "      <td>0.0</td>\n",
              "      <td>0.0</td>\n",
              "    </tr>\n",
              "    <tr>\n",
              "      <th>It is left</th>\n",
              "      <td>0.0</td>\n",
              "      <td>0.0</td>\n",
              "      <td>0.0</td>\n",
              "      <td>0.0</td>\n",
              "    </tr>\n",
              "    <tr>\n",
              "      <th>It is up</th>\n",
              "      <td>0.0</td>\n",
              "      <td>0.0</td>\n",
              "      <td>0.0</td>\n",
              "      <td>0.0</td>\n",
              "    </tr>\n",
              "    <tr>\n",
              "      <th>It is down</th>\n",
              "      <td>0.0</td>\n",
              "      <td>0.0</td>\n",
              "      <td>0.0</td>\n",
              "      <td>0.0</td>\n",
              "    </tr>\n",
              "  </tbody>\n",
              "</table>\n",
              "</div>\n",
              "      <button class=\"colab-df-convert\" onclick=\"convertToInteractive('df-43fd9919-95e2-47f1-9f0d-756c43cbe5b1')\"\n",
              "              title=\"Convert this dataframe to an interactive table.\"\n",
              "              style=\"display:none;\">\n",
              "        \n",
              "  <svg xmlns=\"http://www.w3.org/2000/svg\" height=\"24px\"viewBox=\"0 0 24 24\"\n",
              "       width=\"24px\">\n",
              "    <path d=\"M0 0h24v24H0V0z\" fill=\"none\"/>\n",
              "    <path d=\"M18.56 5.44l.94 2.06.94-2.06 2.06-.94-2.06-.94-.94-2.06-.94 2.06-2.06.94zm-11 1L8.5 8.5l.94-2.06 2.06-.94-2.06-.94L8.5 2.5l-.94 2.06-2.06.94zm10 10l.94 2.06.94-2.06 2.06-.94-2.06-.94-.94-2.06-.94 2.06-2.06.94z\"/><path d=\"M17.41 7.96l-1.37-1.37c-.4-.4-.92-.59-1.43-.59-.52 0-1.04.2-1.43.59L10.3 9.45l-7.72 7.72c-.78.78-.78 2.05 0 2.83L4 21.41c.39.39.9.59 1.41.59.51 0 1.02-.2 1.41-.59l7.78-7.78 2.81-2.81c.8-.78.8-2.07 0-2.86zM5.41 20L4 18.59l7.72-7.72 1.47 1.35L5.41 20z\"/>\n",
              "  </svg>\n",
              "      </button>\n",
              "      \n",
              "  <style>\n",
              "    .colab-df-container {\n",
              "      display:flex;\n",
              "      flex-wrap:wrap;\n",
              "      gap: 12px;\n",
              "    }\n",
              "\n",
              "    .colab-df-convert {\n",
              "      background-color: #E8F0FE;\n",
              "      border: none;\n",
              "      border-radius: 50%;\n",
              "      cursor: pointer;\n",
              "      display: none;\n",
              "      fill: #1967D2;\n",
              "      height: 32px;\n",
              "      padding: 0 0 0 0;\n",
              "      width: 32px;\n",
              "    }\n",
              "\n",
              "    .colab-df-convert:hover {\n",
              "      background-color: #E2EBFA;\n",
              "      box-shadow: 0px 1px 2px rgba(60, 64, 67, 0.3), 0px 1px 3px 1px rgba(60, 64, 67, 0.15);\n",
              "      fill: #174EA6;\n",
              "    }\n",
              "\n",
              "    [theme=dark] .colab-df-convert {\n",
              "      background-color: #3B4455;\n",
              "      fill: #D2E3FC;\n",
              "    }\n",
              "\n",
              "    [theme=dark] .colab-df-convert:hover {\n",
              "      background-color: #434B5C;\n",
              "      box-shadow: 0px 1px 3px 1px rgba(0, 0, 0, 0.15);\n",
              "      filter: drop-shadow(0px 1px 2px rgba(0, 0, 0, 0.3));\n",
              "      fill: #FFFFFF;\n",
              "    }\n",
              "  </style>\n",
              "\n",
              "      <script>\n",
              "        const buttonEl =\n",
              "          document.querySelector('#df-43fd9919-95e2-47f1-9f0d-756c43cbe5b1 button.colab-df-convert');\n",
              "        buttonEl.style.display =\n",
              "          google.colab.kernel.accessAllowed ? 'block' : 'none';\n",
              "\n",
              "        async function convertToInteractive(key) {\n",
              "          const element = document.querySelector('#df-43fd9919-95e2-47f1-9f0d-756c43cbe5b1');\n",
              "          const dataTable =\n",
              "            await google.colab.kernel.invokeFunction('convertToInteractive',\n",
              "                                                     [key], {});\n",
              "          if (!dataTable) return;\n",
              "\n",
              "          const docLinkHtml = 'Like what you see? Visit the ' +\n",
              "            '<a target=\"_blank\" href=https://colab.research.google.com/notebooks/data_table.ipynb>data table notebook</a>'\n",
              "            + ' to learn more about interactive tables.';\n",
              "          element.innerHTML = '';\n",
              "          dataTable['output_type'] = 'display_data';\n",
              "          await google.colab.output.renderOutput(dataTable, element);\n",
              "          const docLink = document.createElement('div');\n",
              "          docLink.innerHTML = docLinkHtml;\n",
              "          element.appendChild(docLink);\n",
              "        }\n",
              "      </script>\n",
              "    </div>\n",
              "  </div>\n",
              "  "
            ]
          },
          "metadata": {}
        }
      ],
      "source": [
        "def q_table_df(q_table,env):\n",
        "  import pandas as pd\n",
        "  q_table_df = pd.DataFrame(q_table, columns=env.actions)\n",
        "  q_table_df.index = env.observations\n",
        "\n",
        "  return q_table_df\n",
        "  \n",
        "def q_table_build(env):\n",
        "  q_table = np.zeros([len(env.observations), len(env.actions)])\n",
        "\n",
        "  return q_table\n",
        "\n",
        "q_table = q_table_build(env)\n",
        "\n",
        "display( q_table_df(q_table,env) )"
      ]
    },
    {
      "cell_type": "code",
      "execution_count": null,
      "metadata": {
        "colab": {
          "base_uri": "https://localhost:8080/"
        },
        "id": "ZtbrV9fjxsBB",
        "outputId": "9565fbfb-d0f4-4f72-8272-759becb7e91c"
      },
      "outputs": [
        {
          "output_type": "stream",
          "name": "stdout",
          "text": [
            "[[1. 0. 0. 0.]\n",
            " [0. 1. 0. 0.]\n",
            " [0. 0. 1. 0.]\n",
            " [0. 0. 0. 1.]]\n",
            "2 2 (2, 1, False, {'prob': 1.0})\n",
            "0 0 (0, 1, False, {'prob': 1.0})\n",
            "3 3 (3, 1, False, {'prob': 1.0})\n",
            "0 0 (0, 1, False, {'prob': 1.0})\n",
            "2 2 (2, 1, False, {'prob': 1.0})\n",
            "1 1 (1, 1, False, {'prob': 1.0})\n",
            "2 2 (2, 1, False, {'prob': 1.0})\n",
            "0 0 (0, 1, False, {'prob': 1.0})\n",
            "0 0 (0, 1, False, {'prob': 1.0})\n",
            "0 0 (0, 1, False, {'prob': 1.0})\n",
            "1 1 (1, 1, False, {'prob': 1.0})\n",
            "3 3 (3, 1, False, {'prob': 1.0})\n",
            "1 1 (1, 1, False, {'prob': 1.0})\n",
            "0 0 (0, 1, False, {'prob': 1.0})\n",
            "2 2 (2, 1, False, {'prob': 1.0})\n",
            "1 1 (1, 1, False, {'prob': 1.0})\n",
            "0 0 (0, 1, False, {'prob': 1.0})\n",
            "2 2 (2, 1, False, {'prob': 1.0})\n",
            "2 2 (2, 1, False, {'prob': 1.0})\n",
            "3 3 (3, 1, False, {'prob': 1.0})\n"
          ]
        }
      ],
      "source": [
        "def policy_epsilon_greedy(env, q_table, epsilon):\n",
        "  import random\n",
        "\n",
        "  if random.random() < epsilon:\n",
        "    action_idx = env.action_space.sample() # Explore action space\n",
        "  else:\n",
        "    action_idx = np.argmax(q_table[env.what,:]) # Exploit learned values\n",
        "\n",
        "  return action_idx\n",
        "\n",
        "q_table = np.identity(q_table.shape[0])\n",
        "print(q_table)\n",
        "\n",
        "for i in range(20):\n",
        "  action = policy_epsilon_greedy(env, q_table, 0)    # 0 error\n",
        "  # action = policy_epsilon_greedy(env, q_table, 0)  # maybe error\n",
        "  print(env.what, action, env.step(action))\n",
        "  env.what = env._next_observation()"
      ]
    },
    {
      "cell_type": "code",
      "execution_count": null,
      "metadata": {
        "colab": {
          "base_uri": "https://localhost:8080/",
          "height": 448
        },
        "id": "yP9Fb-NlJ8DZ",
        "outputId": "d7bffa63-22d9-4412-e61f-9c8025d5ded9"
      },
      "outputs": [
        {
          "output_type": "stream",
          "name": "stdout",
          "text": [
            "[[0. 0. 0. 0.]\n",
            " [0. 0. 0. 0.]\n",
            " [0. 0. 0. 0.]\n",
            " [0. 0. 0. 0.]]\n",
            "Training finished.\n",
            "\n"
          ]
        },
        {
          "output_type": "display_data",
          "data": {
            "text/plain": [
              "<Figure size 432x288 with 1 Axes>"
            ],
            "image/png": "[encoded data removed]"
          },
          "metadata": {
            "needs_background": "light"
          }
        },
        {
          "output_type": "execute_result",
          "data": {
            "text/plain": [
              "array([[ 0.598502  ,  0.        ,  0.        ,  0.        ],\n",
              "       [-0.1       ,  0.499001  ,  0.        ,  0.        ],\n",
              "       [-0.12090755, -0.1       ,  0.6979035 ,  0.        ],\n",
              "       [-0.1       , -0.1       , -0.1       ,  0.499001  ]])"
            ]
          },
          "metadata": {},
          "execution_count": 102
        }
      ],
      "source": [
        "# Hyperparameters\n",
        "alpha = 0.1\n",
        "gamma = 0.99\n",
        "epsilon = 0.1\n",
        "\n",
        "q_table = np.zeros([q_table.shape[0],q_table.shape[1]])\n",
        "print(q_table)\n",
        "\n",
        "reward_hist = []\n",
        "\n",
        "env.reset()\n",
        "\n",
        "for epochs in range(30):\n",
        "\n",
        "    action = policy_epsilon_greedy(env, q_table, epsilon)\n",
        "    observation, reward, done, info = env.step(action) \n",
        "    reward_hist.append(reward)\n",
        "\n",
        "    # print(state, action, next_state, reward) \n",
        "\n",
        "    old_value = q_table[observation, action]\n",
        "    next_max = np.max(q_table[observation, :]) \n",
        "    new_value = (1 - alpha) * old_value + alpha * (reward + gamma * next_max)\n",
        "    q_table[observation, action] = new_value\n",
        "\n",
        "    # env.what = env._next_observation()\n",
        "\n",
        "    # print(q_table)\n",
        "\n",
        "print(\"Training finished.\\n\")\n",
        "\n",
        "import matplotlib.pyplot as plt\n",
        "%matplotlib inline\n",
        "\n",
        "plt.plot(np.array(reward_hist).cumsum())\n",
        "plt.show()\n",
        "\n",
        "q_table  "
      ]
    },
    {
      "cell_type": "code",
      "execution_count": null,
      "metadata": {
        "colab": {
          "base_uri": "https://localhost:8080/",
          "height": 283
        },
        "id": "8AvgqjU1yOjT",
        "outputId": "41affaed-10fc-4184-f7e3-622f61269a06"
      },
      "outputs": [
        {
          "output_type": "display_data",
          "data": {
            "text/plain": [
              "<Figure size 432x288 with 1 Axes>"
            ],
            "image/png": "[encoded data removed]"
          },
          "metadata": {
            "needs_background": "light"
          }
        },
        {
          "output_type": "execute_result",
          "data": {
            "text/plain": [
              "4"
            ]
          },
          "metadata": {},
          "execution_count": 103
        }
      ],
      "source": [
        "def plot_learning(reward_hist, window_size=int(len(reward_hist)/5)):\n",
        "  import matplotlib.pyplot as plt\n",
        "  %matplotlib inline\n",
        "\n",
        "  learning_hist = []\n",
        "\n",
        "  for i in range(len(reward_hist) - window_size + 1):\n",
        "    learning_hist.append( reward_hist[i:i+window_size].count(1) / (window_size) )\n",
        "\n",
        "  plt.plot(np.array(learning_hist))\n",
        "  plt.show()\n",
        "\n",
        "  return window_size\n",
        "\n",
        "plot_learning(reward_hist,4)"
      ]
    },
    {
      "cell_type": "code",
      "execution_count": null,
      "metadata": {
        "colab": {
          "base_uri": "https://localhost:8080/",
          "height": 265
        },
        "id": "PY4EhFoylgTx",
        "outputId": "242f446e-589e-4224-800b-5071fbbdf200"
      },
      "outputs": [
        {
          "output_type": "display_data",
          "data": {
            "text/plain": [
              "<Figure size 432x288 with 1 Axes>"
            ],
            "image/png": "[encoded data removed]"
          },
          "metadata": {
            "needs_background": "light"
          }
        }
      ],
      "source": [
        "def q_table_show(q_table, env):\n",
        "  import seaborn as sns\n",
        "  import matplotlib.pyplot as plt\n",
        "  %matplotlib inline\n",
        "\n",
        "  for i in range(q_table.shape[0]):\n",
        "    argmax = np.argmax(q_table[i,:])\n",
        "    q_table[i,:] = 0\n",
        "    q_table[i,argmax] = 1\n",
        "\n",
        "  states = env.observations.copy()\n",
        "  states.reverse()\n",
        "  sns.heatmap(q_table,cbar=False,xticklabels=env.actions,yticklabels=states, square=True)\n",
        "  plt.show()\n",
        "\n",
        "q_table_show(q_table, env)"
      ]
    },
    {
      "cell_type": "code",
      "execution_count": null,
      "metadata": {
        "colab": {
          "base_uri": "https://localhost:8080/"
        },
        "id": "AOjI_E99Xogo",
        "outputId": "c70d737d-044d-42b2-f94b-91531c7ebb7e"
      },
      "outputs": [
        {
          "output_type": "stream",
          "name": "stdout",
          "text": [
            "100\n"
          ]
        }
      ],
      "source": [
        "env.reset()\n",
        "\n",
        "reward_hist = []\n",
        "\n",
        "for epochs in range(100):\n",
        "\n",
        "    action = policy_epsilon_greedy(env, q_table, 0)\n",
        "    observations, reward, done, info = env.step(action) \n",
        "    reward_hist.append(reward)\n",
        "\n",
        "    # env.what = env._next_observation()\n",
        "\n",
        "print(sum(reward_hist))\n",
        "\n"
      ]
    },
    {
      "cell_type": "code",
      "execution_count": null,
      "metadata": {
        "colab": {
          "base_uri": "https://localhost:8080/"
        },
        "id": "5UiBE3S04cPB",
        "outputId": "f15d9b2d-ecd4-448a-ef2b-f3e4172fc5f7"
      },
      "outputs": [
        {
          "output_type": "stream",
          "name": "stdout",
          "text": [
            "Looking in indexes: https://pypi.org/simple, https://us-python.pkg.dev/colab-wheels/public/simple/\n",
            "Requirement already satisfied: stable-baselines3 in /usr/local/lib/python3.7/dist-packages (1.5.0)\n",
            "Requirement already satisfied: matplotlib in /usr/local/lib/python3.7/dist-packages (from stable-baselines3) (3.2.2)\n",
            "Requirement already satisfied: gym==0.21 in /usr/local/lib/python3.7/dist-packages (from stable-baselines3) (0.21.0)\n",
            "Requirement already satisfied: cloudpickle in /usr/local/lib/python3.7/dist-packages (from stable-baselines3) (1.3.0)\n",
            "Requirement already satisfied: torch>=1.8.1 in /usr/local/lib/python3.7/dist-packages (from stable-baselines3) (1.11.0+cu113)\n",
            "Requirement already satisfied: pandas in /usr/local/lib/python3.7/dist-packages (from stable-baselines3) (1.3.5)\n",
            "Requirement already satisfied: numpy in /usr/local/lib/python3.7/dist-packages (from stable-baselines3) (1.21.6)\n",
            "Requirement already satisfied: importlib-metadata>=4.8.1 in /usr/local/lib/python3.7/dist-packages (from gym==0.21->stable-baselines3) (4.11.4)\n",
            "Requirement already satisfied: zipp>=0.5 in /usr/local/lib/python3.7/dist-packages (from importlib-metadata>=4.8.1->gym==0.21->stable-baselines3) (3.8.0)\n",
            "Requirement already satisfied: typing-extensions>=3.6.4 in /usr/local/lib/python3.7/dist-packages (from importlib-metadata>=4.8.1->gym==0.21->stable-baselines3) (4.1.1)\n",
            "Requirement already satisfied: pyparsing!=2.0.4,!=2.1.2,!=2.1.6,>=2.0.1 in /usr/local/lib/python3.7/dist-packages (from matplotlib->stable-baselines3) (3.0.9)\n",
            "Requirement already satisfied: python-dateutil>=2.1 in /usr/local/lib/python3.7/dist-packages (from matplotlib->stable-baselines3) (2.8.2)\n",
            "Requirement already satisfied: kiwisolver>=1.0.1 in /usr/local/lib/python3.7/dist-packages (from matplotlib->stable-baselines3) (1.4.3)\n",
            "Requirement already satisfied: cycler>=0.10 in /usr/local/lib/python3.7/dist-packages (from matplotlib->stable-baselines3) (0.11.0)\n",
            "Requirement already satisfied: six>=1.5 in /usr/local/lib/python3.7/dist-packages (from python-dateutil>=2.1->matplotlib->stable-baselines3) (1.15.0)\n",
            "Requirement already satisfied: pytz>=2017.3 in /usr/local/lib/python3.7/dist-packages (from pandas->stable-baselines3) (2022.1)\n"
          ]
        }
      ],
      "source": [
        "!pip install stable-baselines3"
      ]
    },
    {
      "cell_type": "code",
      "execution_count": null,
      "metadata": {
        "id": "Czgbh7a96jM0"
      },
      "outputs": [],
      "source": [
        "env = handMove(0)\n",
        "\n",
        "from stable_baselines3.common.env_checker import check_env\n",
        "check_env(env, warn=True, skip_render_check=True)"
      ]
    },
    {
      "cell_type": "code",
      "execution_count": null,
      "metadata": {
        "colab": {
          "base_uri": "https://localhost:8080/"
        },
        "id": "Xwf_YQj80vmi",
        "outputId": "a21bf160-54b1-4e6d-d1c8-131ed462f94e"
      },
      "outputs": [
        {
          "output_type": "stream",
          "name": "stdout",
          "text": [
            "Using cpu device\n",
            "Wrapping the env with a `Monitor` wrapper\n",
            "Wrapping the env in a DummyVecEnv.\n"
          ]
        }
      ],
      "source": [
        "import gym\n",
        "from stable_baselines3 import DQN\n",
        "from stable_baselines3 import PPO\n",
        "\n",
        "# model = DQN(\"MlpPolicy\", env, verbose=1, learning_rate=0.01,batch_size=1,learning_starts=1,train_freq=1,gradient_steps=-1,target_update_interval=1,\n",
        "#             exploration_initial_eps=0.1,exploration_final_eps=0.1)\n",
        "model = PPO(\"MlpPolicy\", env, verbose=1)\n",
        "\n",
        "model.learn(total_timesteps=2000, log_interval=4)\n",
        "model.save(\"ppo_handMove\")\n",
        "\n",
        "del model # remove to demonstrate saving and loading\n",
        "\n",
        "model = PPO.load(\"ppo_handMove\")\n",
        "\n"
      ]
    },
    {
      "cell_type": "code",
      "execution_count": null,
      "metadata": {
        "colab": {
          "base_uri": "https://localhost:8080/"
        },
        "id": "CBmFyj4C_XfJ",
        "outputId": "d4cbafa5-adcd-4163-eef6-df24fdfd90ac"
      },
      "outputs": [
        {
          "output_type": "stream",
          "name": "stdout",
          "text": [
            "3 0 -1 False None\n",
            "1 0 -1 False None\n",
            "2 0 -1 False None\n",
            "1 3 -1 False None\n",
            "2 0 -1 False None\n",
            "0 3 -1 False None\n",
            "1 1 1 False None\n",
            "2 0 -1 False None\n",
            "0 3 -1 False None\n",
            "2 1 -1 False None\n",
            "-8\n"
          ]
        }
      ],
      "source": [
        "reward_hist = []\n",
        "\n",
        "obs = env.reset()\n",
        "\n",
        "for epochs in range(10):\n",
        "\n",
        "    action, _states = model.predict(obs, deterministic=True)\n",
        "    observation, reward, done, info = env.step(action) \n",
        "    print(observation, action, reward, done, _states)\n",
        "    reward_hist.append(reward)\n",
        "\n",
        "    obs = observation\n",
        "\n",
        "#    env.what = env._next_observation()\n",
        "\n",
        "print(sum(reward_hist))\n"
      ]
    },
    {
      "cell_type": "code",
      "source": [
        "import random\n",
        "import json\n",
        "import gym\n",
        "from gym import spaces\n",
        "import pandas as pd\n",
        "import numpy as np\n",
        "\n",
        "MAX_ACCOUNT_BALANCE = 2147483647\n",
        "MAX_NUM_SHARES = 2147483647\n",
        "MAX_SHARE_PRICE = 5000\n",
        "MAX_OPEN_POSITIONS = 5\n",
        "MAX_STEPS = 20000\n",
        "\n",
        "INITIAL_ACCOUNT_BALANCE = 10000\n",
        "\n",
        "\n",
        "class StockTradingEnv(gym.Env):\n",
        "    \"\"\"A stock trading environment for OpenAI gym\"\"\"\n",
        "    metadata = {'render.modes': ['human']}\n",
        "\n",
        "    def __init__(self, df):\n",
        "        super(StockTradingEnv, self).__init__()\n",
        "\n",
        "        self.df = df\n",
        "        self.reward_range = (0, MAX_ACCOUNT_BALANCE)\n",
        "\n",
        "        # Actions of the format Buy x%, Sell x%, Hold, etc.\n",
        "        self.action_space = spaces.Box(\n",
        "            low=np.array([0, 0]), high=np.array([3, 1]), dtype=np.float16)\n",
        "\n",
        "        # Prices contains the OHCL values for the last five prices\n",
        "        self.observation_space = spaces.Box(\n",
        "            low=0, high=1, shape=(6, 6), dtype=np.float16)\n",
        "\n",
        "    def _next_observation(self):\n",
        "        # Get the stock data points for the last 5 days and scale to between 0-1\n",
        "        frame = np.array([\n",
        "            self.df.loc[self.current_step: self.current_step +\n",
        "                        5, 'Open'].values / MAX_SHARE_PRICE,\n",
        "            self.df.loc[self.current_step: self.current_step +\n",
        "                        5, 'High'].values / MAX_SHARE_PRICE,\n",
        "            self.df.loc[self.current_step: self.current_step +\n",
        "                        5, 'Low'].values / MAX_SHARE_PRICE,\n",
        "            self.df.loc[self.current_step: self.current_step +\n",
        "                        5, 'Close'].values / MAX_SHARE_PRICE,\n",
        "            self.df.loc[self.current_step: self.current_step +\n",
        "                        5, 'Volume'].values / MAX_NUM_SHARES,\n",
        "        ])\n",
        "\n",
        "        # Append additional data and scale each value to between 0-1\n",
        "        obs = np.append(frame, [[\n",
        "            self.balance / MAX_ACCOUNT_BALANCE,\n",
        "            self.max_net_worth / MAX_ACCOUNT_BALANCE,\n",
        "            self.shares_held / MAX_NUM_SHARES,\n",
        "            self.cost_basis / MAX_SHARE_PRICE,\n",
        "            self.total_shares_sold / MAX_NUM_SHARES,\n",
        "            self.total_sales_value / (MAX_NUM_SHARES * MAX_SHARE_PRICE),\n",
        "        ]], axis=0)\n",
        "\n",
        "        return obs\n",
        "\n",
        "    def _take_action(self, action):\n",
        "        # Set the current price to a random price within the time step\n",
        "        current_price = random.uniform(\n",
        "            self.df.loc[self.current_step, \"Open\"], self.df.loc[self.current_step, \"Close\"])\n",
        "\n",
        "        action_type = action[0]\n",
        "        amount = action[1]\n",
        "\n",
        "        if action_type < 1:\n",
        "            # Buy amount % of balance in shares\n",
        "            total_possible = int(self.balance / current_price)\n",
        "            shares_bought = int(total_possible * amount)\n",
        "            prev_cost = self.cost_basis * self.shares_held\n",
        "            additional_cost = shares_bought * current_price\n",
        "\n",
        "            self.balance -= additional_cost\n",
        "            self.cost_basis = (\n",
        "                prev_cost + additional_cost) / (self.shares_held + shares_bought)\n",
        "            self.shares_held += shares_bought\n",
        "\n",
        "        elif action_type < 2:\n",
        "            # Sell amount % of shares held\n",
        "            shares_sold = int(self.shares_held * amount)\n",
        "            self.balance += shares_sold * current_price\n",
        "            self.shares_held -= shares_sold\n",
        "            self.total_shares_sold += shares_sold\n",
        "            self.total_sales_value += shares_sold * current_price\n",
        "\n",
        "        self.net_worth = self.balance + self.shares_held * current_price\n",
        "\n",
        "        if self.net_worth > self.max_net_worth:\n",
        "            self.max_net_worth = self.net_worth\n",
        "\n",
        "        if self.shares_held == 0:\n",
        "            self.cost_basis = 0\n",
        "\n",
        "    def step(self, action):\n",
        "        # Execute one time step within the environment\n",
        "        self._take_action(action)\n",
        "\n",
        "        self.current_step += 1\n",
        "\n",
        "        if self.current_step > len(self.df.loc[:, 'Open'].values) - 6:\n",
        "            self.current_step = 0\n",
        "\n",
        "        delay_modifier = (self.current_step / MAX_STEPS)\n",
        "\n",
        "        reward = self.balance * delay_modifier\n",
        "        done = self.net_worth <= 0\n",
        "\n",
        "        obs = self._next_observation()\n",
        "\n",
        "        return obs, reward, done, {}\n",
        "\n",
        "    def reset(self):\n",
        "        # Reset the state of the environment to an initial state\n",
        "        self.balance = INITIAL_ACCOUNT_BALANCE\n",
        "        self.net_worth = INITIAL_ACCOUNT_BALANCE\n",
        "        self.max_net_worth = INITIAL_ACCOUNT_BALANCE\n",
        "        self.shares_held = 0\n",
        "        self.cost_basis = 0\n",
        "        self.total_shares_sold = 0\n",
        "        self.total_sales_value = 0\n",
        "\n",
        "        # Set the current step to a random point within the data frame\n",
        "        self.current_step = random.randint(\n",
        "            0, len(self.df.loc[:, 'Open'].values) - 6)\n",
        "\n",
        "        return self._next_observation()\n",
        "\n",
        "    def render(self, mode='human', close=False):\n",
        "        # Render the environment to the screen\n",
        "        profit = self.net_worth - INITIAL_ACCOUNT_BALANCE\n",
        "\n",
        "        print(f'Step: {self.current_step}')\n",
        "        print(f'Balance: {self.balance}')\n",
        "        print(\n",
        "            f'Shares held: {self.shares_held} (Total sold: {self.total_shares_sold})')\n",
        "        print(\n",
        "            f'Avg cost for held shares: {self.cost_basis} (Total sales value: {self.total_sales_value})')\n",
        "        print(\n",
        "            f'Net worth: {self.net_worth} (Max net worth: {self.max_net_worth})')\n",
        "        print(f'Profit: {profit}')"
      ],
      "metadata": {
        "id": "ZlJersoNO8He"
      },
      "execution_count": null,
      "outputs": []
    },
    {
      "cell_type": "code",
      "source": [
        "import gym\n",
        "import json\n",
        "import datetime as dt\n",
        "\n",
        "from stable_baselines3 import PPO\n",
        "\n",
        "import pandas as pd\n",
        "\n",
        "df = pd.read_csv('https://github.com/notadamking/Stock-Trading-Environment/raw/master/data/AAPL.csv')\n",
        "df = df.sort_values('Date')\n",
        "\n",
        "# The algorithms require a vectorized environment to run\n",
        "env = StockTradingEnv(df)\n",
        "\n",
        "model = PPO('MlpPolicy', env, verbose=1)\n",
        "model.learn(total_timesteps=20000)\n",
        "\n",
        "obs = env.reset()\n",
        "for i in range(2000):\n",
        "    action, _states = model.predict(obs)\n",
        "    obs, rewards, done, info = env.step(action)\n",
        "    env.render()"
      ],
      "metadata": {
        "id": "GGuOxYDFPJp-"
      },
      "execution_count": null,
      "outputs": []
    },
    {
      "cell_type": "code",
      "execution_count": null,
      "metadata": {
        "id": "SmHFOGek8d4Q"
      },
      "outputs": [],
      "source": [
        "import gym\n",
        "\n",
        "from stable_baselines3 import DQN\n",
        "\n",
        "env = gym.make(\"CartPole-v0\")\n",
        "\n",
        "# model = DQN(\"MlpPolicy\", env, verbose=1)\n",
        "model = DQN(\"MlpPolicy\",\n",
        "            env,\n",
        "            verbose=1,\n",
        "            train_freq=16,\n",
        "            gradient_steps=8,\n",
        "            gamma=0.99,\n",
        "            exploration_fraction=0.2,\n",
        "            exploration_final_eps=0.07,\n",
        "            target_update_interval=600,\n",
        "            learning_starts=1000,\n",
        "            buffer_size=10000,\n",
        "            batch_size=128,\n",
        "            learning_rate=4e-3,\n",
        "            policy_kwargs=dict(net_arch=[256, 256]),\n",
        "#            tensorboard_log=tensorboard_log,\n",
        "            seed=2)\n",
        "\n",
        "model.learn(total_timesteps=10000, log_interval=4)\n",
        "model.save(\"dqn_cartpole\")\n",
        "\n",
        "del model # remove to demonstrate saving and loading\n",
        "\n",
        "model = DQN.load(\"dqn_cartpole\")\n",
        "\n",
        "obs = env.reset()\n",
        "for epochs in range(1000):\n",
        "    action, _states = model.predict(obs, deterministic=True)\n",
        "    obs, reward, done, info = env.step(action)\n",
        "    print(observations, action, reward, _states)\n",
        "    # env.render()\n",
        "    if done:\n",
        "      obs = env.reset()"
      ]
    },
    {
      "cell_type": "code",
      "execution_count": null,
      "metadata": {
        "id": "_QgWXOZgKi6e"
      },
      "outputs": [],
      "source": [
        "from stable_baselines3.common.evaluation import evaluate_policy\n",
        "\n",
        "model = DQN(\"MlpPolicy\",\n",
        "            env,\n",
        "            verbose=1,\n",
        "            train_freq=16,\n",
        "            gradient_steps=8,\n",
        "            gamma=0.99,\n",
        "            exploration_fraction=0.2,\n",
        "            exploration_final_eps=0.07,\n",
        "            target_update_interval=600,\n",
        "            learning_starts=1000,\n",
        "            buffer_size=10000,\n",
        "            batch_size=128,\n",
        "            learning_rate=4e-3,\n",
        "            policy_kwargs=dict(net_arch=[256, 256]),\n",
        "#            tensorboard_log=tensorboard_log,\n",
        "            seed=2)\n",
        "\n",
        "mean_reward, std_reward = evaluate_policy(model, model.get_env(), deterministic=True, n_eval_episodes=20)\n",
        "\n",
        "print(f\"mean_reward:{mean_reward:.2f} +/- {std_reward:.2f}\")"
      ]
    }
  ],
  "metadata": {
    "colab": {
      "provenance": [],
      "authorship_tag": "ABX9TyMaoQ5gEGdpTCD27V3X6V8r",
      "include_colab_link": true
    },
    "kernelspec": {
      "display_name": "Python 3",
      "name": "python3"
    },
    "language_info": {
      "name": "python"
    }
  },
  "nbformat": 4,
  "nbformat_minor": 0
}
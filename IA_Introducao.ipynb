{
  "nbformat": 4,
  "nbformat_minor": 0,
  "metadata": {
    "kernelspec": {
      "display_name": "Python 3",
      "language": "python",
      "name": "python3"
    },
    "language_info": {
      "codemirror_mode": {
        "name": "ipython",
        "version": 3
      },
      "file_extension": ".py",
      "mimetype": "text/x-python",
      "name": "python",
      "nbconvert_exporter": "python",
      "pygments_lexer": "ipython3",
      "version": "3.7.4"
    },
    "colab": {
      "name": "IA_Introducao.ipynb",
      "provenance": [],
      "collapsed_sections": [],
      "include_colab_link": true
    }
  },
  "cells": [
    {
      "cell_type": "markdown",
      "metadata": {
        "id": "view-in-github",
        "colab_type": "text"
      },
      "source": [
        "<a href=\"https://colab.research.google.com/github/Rogerio-mack/Inteligencia_Artificial/blob/main/IA_Introducao.ipynb\" target=\"_parent\"><img src=\"https://colab.research.google.com/assets/colab-badge.svg\" alt=\"Open In Colab\"/></a>"
      ]
    },
    {
      "cell_type": "markdown",
      "metadata": {
        "id": "J3LMBfpeHTwb"
      },
      "source": [
        "<head>\n",
        "  <meta name=\"author\" content=\"Rogério de Oliveira\">\n",
        "  <meta institution=\"author\" content=\"Universidade Presbiteriana Mackenzie\">\n",
        "</head>\n",
        "\n",
        "<img src=\"http://meusite.mackenzie.br/rogerio/mackenzie_logo/UPM.2_horizontal_vermelho.jpg\" width=300, align=\"right\">\n",
        "<!-- <h1 align=left><font size = 6, style=\"color:rgb(200,0,0)\"> optional title </font></h1> -->\n"
      ]
    },
    {
      "cell_type": "markdown",
      "metadata": {
        "id": "zQX8WQPeHTwc"
      },
      "source": [
        "# **1. Introdução à Inteligência Artificial: Show Room**\n",
        "---\n",
        "\n",
        "Aqui você verá:\n",
        "\n",
        "* As diferenças entre IA, Machine Learning e Deep Learning\n",
        "* O que são IA Fraca e Forte\n",
        "* O que é o Aprendizado de Máquina Supervisionado, não Supervisionado e por Reforço\n"
      ]
    },
    {
      "cell_type": "markdown",
      "source": [
        "# IA, Machine Learning e Deep Learning"
      ],
      "metadata": {
        "id": "AxuT3OOGMHkC"
      }
    },
    {
      "cell_type": "markdown",
      "source": [
        "![imagem](https://blogs.nvidia.com/wp-content/uploads/2016/07/Deep_Learning_Icons_R5_PNG.jpg-672x427.png.webp)"
      ],
      "metadata": {
        "id": "jKMcg3ONL34C"
      }
    },
    {
      "cell_type": "markdown",
      "source": [
        "> *Inteligência computacional é a teoria, projeto, aplicação e desenvolvimento de paradigmas\n",
        "computacionais motivados biologicamente e linguisticamente. Tradicionalmente, os três\n",
        "principais pilares da CI são **Redes Neurais, Sistemas Fuzzy e Computação Evolutiva**.* (IEEE)\n",
        "\n",
        "<small> Peres, et. al.\n",
        "\n",
        "![imagem](https://github.com/Rogerio-mack/IA/blob/main/Figuras/IEEE_inteligencia_computacional.png?raw=true)"
      ],
      "metadata": {
        "id": "ZmqVsjc2Pq1z"
      }
    },
    {
      "cell_type": "markdown",
      "source": [
        "# IA Fraca $\\times$ IA Forte\n",
        "\n",
        "> *O estudo deve prosseguir com base na conjectura de que cada aspecto do aprendizado ou\n",
        "qualquer outra característica da inteligência pode, em princípio, ser descrito com tanta precisão\n",
        "que uma máquina pode ser feita para simulá-lo. Será feita uma tentativa de descobrir como fazer\n",
        "as máquinas usarem a linguagem, formar abstrações e conceitos, resolver tipos de problemas\n",
        "agora reservados aos humanos e se aprimorarem.* **(Dartmouth workshop, 1956)**\n",
        "\n",
        "<small> Peres, et. al.\n",
        "\n",
        "![imagem](https://github.com/Rogerio-mack/IA/blob/main/Figuras/IAFraca_vs_IAForte.png?raw=true)"
      ],
      "metadata": {
        "id": "2vGjM--WNPIZ"
      }
    },
    {
      "cell_type": "markdown",
      "metadata": {
        "id": "ZudlNrhO13oO"
      },
      "source": [
        "# Aprendizado de Máquina: Um novo paradigma\n",
        "\n",
        "O Aprendizado de Máquina ou *Machine Learning* introduz um novo paradigma de como construir automação ou programas, a partir unicamente de dados.\n",
        "\n",
        "<img src=\"https://github.com/Rogerio-mack/IA/blob/main/Figuras/MLParadigma.png?raw=true\" width=1200, align=\"right\">\n",
        "\n",
        "<small>\n",
        "<b>\n",
        "Kotu, et al.\n"
      ]
    },
    {
      "cell_type": "markdown",
      "source": [
        "# Machine Learning e Data Science\n",
        "\n",
        "<img src=\"https://github.com/Rogerio-mack/IA/blob/main/Figuras/IA_ML_DS.png?raw=true\" width=900>\n",
        "\n",
        "\n",
        "<b>\n",
        "\n",
        "<small>\n",
        "\n",
        "<b>\n",
        "\n",
        "Kotu, et al."
      ],
      "metadata": {
        "id": "DdWofqYRQybC"
      }
    },
    {
      "cell_type": "markdown",
      "source": [
        "# Tarefas de Ciência de Dados e Machine Learning\n",
        "\n",
        "<img src=\"https://github.com/Rogerio-mack/IA/blob/main/Figuras/DataScienceTasks.png?raw=true\" width=800, align=\"right\">\n",
        "\n",
        "\n",
        "\n",
        "<b>\n",
        "\n",
        "<small>\n",
        "\n",
        "<b>\n",
        "\n",
        "Kotu, et al."
      ],
      "metadata": {
        "id": "5iRwWlVGRLyR"
      }
    },
    {
      "cell_type": "markdown",
      "metadata": {
        "id": "8dJiYIuTHTwn"
      },
      "source": [
        "# Tipos de Padrões e Aplicações\n",
        "\n",
        "Que *tipos de padrões* válidos, novos, potencialmente úteis e  compreensíveis podemos esperar extrair dos dados com algoritmos de aprendizado de máquina? Uma forma útil de você entender os tipos de padrões que podemos obter através do aprendizado máquina é entendermos algumas as tarefas que esses algoritmos são capazes de resolver e suas aplicações.\n",
        "\n",
        "<br>\n",
        "<br>\n",
        "\n",
        "| Tarefa | Exemplos |\n",
        "|-|-|\n",
        "| Classificação\t|\t\tFraud/not Fraud, Churn/Not Churn |\n",
        "| Regressão |\t\t\tPreços de Imóveis, Aluguéis, Veículos |\n",
        "| Clusterização\t|\t\tSegmentação de Clientes, Produtos, Documentos |\n",
        "| Regras de Associação\t| Pacotes de produtos |\n",
        "| Anomaly Detection\t|\tMal funcionamento de dispositivos, Ataques cibernéticos |\n",
        "| Matching\t\t|\tRecomendação de produtos ou amigos de uma rede social |\n",
        "\n",
        "<small> <b> Tarefas de Aprendizado de Máquina e Aplicações </b></small>\n",
        "\n",
        "<br>\n",
        "\n",
        "Podemos empregar esses padrões para classificar automaticamente Clientes sujeitos a Crédito/ou Não; classificar emails como Spam/Not Spam ou Apólices de Seguro em diferentes classes de risco; ou ainda Peças produzidas com diferentes níveis de qualidade (**Classificação**). Um padrão também pode fornecer uma estimativa de valores para formação de preços, como preços de Máquinas produzidas com peças de diferentes fornecedores ou de imóveis; ou ainda a previsão volumes de Produção, Consumo ou o aumento de casos de uma doença (**Regressão**). Podemos também identificar grupos de Clientes com os mesmos *padrões* de comportamento e gostos (**Clusterização**, como aplicada na segmentação de clientes e produtos); produtos que são adquiridos frequentemente juntos (**Regras de Associação**); comportamentos anômalos, como um tráfego de internet anormal ou o mal comportamento de uma planta de produção (**Detecção de Anomalias**); e ainda, recomendar produtos a um usuário com base em padrões de semelhança com produtos ja adquiridos ou um *par perfeito* em um site de relacionamentos (**Matching**, e sistemas de recomendação em geral).\n",
        "\n",
        "\n",
        "\n",
        "<br>\n",
        "<img src=\"http://meusite.mackenzie.br/rogerio/TIC2021S1$/T1/ML.png\" width=500, align=\"center\">\n",
        "<br>\n",
        "<br>\n",
        "<small><b>\n",
        "Vasant Dhar. Data Science and Prediction (ACM 2013)</h8>\n",
        "</small></b>\n",
        "\n",
        "\n"
      ]
    },
    {
      "cell_type": "markdown",
      "metadata": {
        "id": "TJS1HgEbHTwo"
      },
      "source": [
        "# Exemplos de Aplicações\n",
        "\n",
        "Você vai  encontrar abaixo alguns casos clássicos da aplicação da Ciência de Dados bem como do Aprendizado de Máquina em diferentes segmentos da indústria.\n"
      ]
    },
    {
      "cell_type": "markdown",
      "metadata": {
        "id": "p2TOw658HZa-"
      },
      "source": [
        "## Casos Gerais\n",
        "\n",
        "Basta dar um Google com 'Data Science', 'Ciência de Dados' ou 'Machine Learning' e você encontrará inúmeros cases de aplicação de Ciência de Dados e do Aprendizado de Máquina. O site:\n",
        "\n",
        "<br>\n",
        "<br>\n",
        "\n",
        "<img src=\"https://github.com/firmai/industry-machine-learning/raw/master/assets/industry.png\" width=500, align=\"center\">\n",
        "\n",
        "[Machine Learning and Data Science Applications in Industry](https://github.com/ashishpatel26/Real-time-ML-Project) | https://github.com/ashishpatel26/Real-time-ML-Project\n",
        "\n",
        "| <!-- -->                         | <!-- -->                         | <!-- -->                          |\n",
        "| -------------------------------- | -------------------------------- | --------------------------------- |\n",
        "| [Accommodation & Food](#accommodation)             | [Agriculture](#agriculture)           | [Banking & Insurance](#bankfin)               |\n",
        "| [Biotechnological & Life Sciences](#biotech) | [Construction & Engineering](#construction)       | [Education & Research](#education)              |\n",
        "| [Emergency & Relief](#emergency)               | [Finance](#finance) | [Manufacturing](#manufacturing)             |\n",
        "| [Government and Public Works](#public)      | [Healthcare](#healthcare)  | [Media & Publishing](#media)                |\n",
        "| [Justice, Law and Regulations](#legal)      | [Miscellaneous](#miscellaneous)                    | [Accounting](#accounting) |\n",
        "| [Real Estate, Rental & Leasing](#realestate)    | [Utilities](#utilities)              | [Wholesale & Retail](#wholesale)                  |\n",
        "\n",
        "<br>\n",
        "<br>\n",
        "\n",
        "Dá uma ideia das várias áreas de aplicação e traz detalhes dos diversos *cases* em cada segmento. Você pode explorar e focar em apenas alguns desses casos que forem mais do seu interesse. Relaciono ainda casos da indústria digital que emprega massivamente essa tecnologia para criar novos produtos e serviços, e da manufatura.\n",
        "\n",
        "<br>\n",
        "\n",
        "* Casos de Uso da Indústria Digital\n",
        "\n",
        "  * [Netflix](https://data-flair.training/blogs/data-science-at-netflix/) | https://data-flair.training/blogs/data-science-at-netflix/\n",
        "\n",
        "  * [Twitter](https://data-flair.training/blogs/data-science-at-twitter/) | \n",
        "https://data-flair.training/blogs/data-science-at-twitter/\n",
        "\n",
        "  * [Facebook](https://data-flair.training/blogs/data-science-at-facebook/) |\n",
        "https://data-flair.training/blogs/data-science-at-facebook/\n",
        "\n",
        "<br>\n",
        "\n",
        "\n",
        "\n"
      ]
    },
    {
      "cell_type": "markdown",
      "metadata": {
        "id": "q_BRmLdYLvBP"
      },
      "source": [
        "## Casos da Indústria Nacional\n",
        "\n"
      ]
    },
    {
      "cell_type": "markdown",
      "metadata": {
        "id": "icdTDPtLHTw-"
      },
      "source": [
        "### Engenharia Aeronáutica, EmbraerX\n",
        "\n",
        "**A chegada dos carros voadores eVTOL** Projetos impulsionam desenvolvimento de protótipos de eVTOLs no Brasil e no mundo, os veículos têm a proposta de voos autônomos baseados no aprendizado de máquina.\n",
        "\n"
      ]
    },
    {
      "cell_type": "markdown",
      "metadata": {
        "id": "PeyoHA6qHTw_"
      },
      "source": [
        "\n",
        "<img src=\"https://revistapesquisa.fapesp.br/wp-content/uploads/2019/12/068-073_evtol_286-1-IMG.png\" width=500, align=\"center\">\n",
        "\n",
        "<small><b>\n",
        "Fonte: https://revistapesquisa.fapesp.br/2019/12/03/a-chegada-dos-carros-voadores/"
      ]
    },
    {
      "cell_type": "markdown",
      "metadata": {
        "id": "whDH3fIOHTw_"
      },
      "source": [
        "### Engenharia Florestal \n",
        "\n",
        "**Identificação de madeiras** Sistemas inteligentes classificam a qualidade das lâminas de madeira e a espécie da árvore à qual pertencem de modo automático para direcionar o uso da lâminas.\n",
        "\n"
      ]
    },
    {
      "cell_type": "markdown",
      "metadata": {
        "id": "XlK3CFlPHTw_"
      },
      "source": [
        "\n",
        "<img src=\"https://revistapesquisa.fapesp.br/wp-content/uploads/2017/07/068-071_madeira_257-3.jpg\" width=500, align=\"center\">\n",
        "\n",
        "<small><b>\n",
        "Fonte: https://revistapesquisa.fapesp.br/2017/07/18/identificacao-de-madeiras/\n"
      ]
    },
    {
      "cell_type": "markdown",
      "metadata": {
        "id": "Dm-1cLcxHTxA"
      },
      "source": [
        "### Energia, Petrobrás\n",
        "\n",
        "Uma plataforma marítima moderna pode ser equipada com até 80 mil sensores, capazes de gerar aproximadamente 15 petabytes, o equivalente a 15 milhões de gigabytes de informação, durante a vida útil da unidade. São informações que abrangem dados de produção, de segurança operacional, de comportamento de reservatório, entre outras. Imagine o quanto esse volume de dados estratégicos uma vez registrados, interpretados e combinados aos demais dados de outras plataformas pode gerar de valor para uma companhia de petróleo. Essa é a visão da Petrobrás que também entende que “o gerenciamento de dados é o novo “óleo” da indústria. O maior desafio é como conectar, integrar e extrair valor desse volume de dados imenso\". Por isso ela investe em inúmeros projetos que envolvem Ciência de Dados e Aprendizado de Máquina, como alguns dos projetos resumidos abaixo.\n",
        "\n",
        "* **Metodologias Big Data aplicadas a modelagem na\n",
        "otimização de processos:** emprega\n",
        "técnicas de Big Data e Deep Learning para geração\n",
        "e atualização de modelos em tempo real para serem \n",
        "utilizados em monitoração, controle e otimização\n",
        "das unidades operacionais de refino e exploração e\n",
        "produção. \n",
        "\n",
        "* **Caracterização expressa de petróleos:** para uma avaliação de petróleo completa,\n",
        " em tempo real, a partir de um conjunto\n",
        "limitado de características medidas em laboratório, empregando\n",
        "algoritmos bioinspirados e tecnologias\n",
        " em Deep Learning e Machine Learning.\n",
        "\n",
        "\n",
        "* **Sistema supervisório de SMS baseado em Inteligência\n",
        "Artificial:**  sistema \n",
        "de monitoramento de imagens em ambientes de risco\n",
        "operacional com uso de redes neurais profundas,\n",
        "tecnologia conhecida como Intelligent Video Analytics\n",
        "(IVA), detectando riscos e desvios ocupacionais para reduzir a taxa de\n",
        "acidentados registráveis.\n",
        "\n",
        "* **Busca semântica e identificação de análogos de\n",
        "reservatório:** investiga o potencial\n",
        "de uma solução tecnológica baseada em tecnologias\n",
        "digitais para identificar similaridades entre projetos\n",
        "exploratórios e projetos de desenvolvimento da produção\n",
        "de reservatórios de petróleo. \n",
        "\n",
        "* **Desenvolvimento de ferramenta computacional\n",
        "(SimCAP), que contribui para o aumento de produção\n",
        "de asfalto a partir de petróleos do pré-sal:** desenvolvida com base em dados experimentais e\n",
        "inteligência artificial, por meio do uso de técnicas de\n",
        "aprendizagem computacional \n",
        "otimiza o elenco de petróleos para redução das\n",
        "restrições de alocação de pré-sal nas refinarias durante\n",
        "campanha de produção de asfalto.\n",
        "\n"
      ]
    },
    {
      "cell_type": "markdown",
      "metadata": {
        "id": "npaLwEVBG0w8"
      },
      "source": [
        "# O Processo de Ciência de Dados e os Modelos de Aprendizado de Máquina\n",
        "\n",
        "Esse um processo que pode envolver uma série de técnicas que vão da estatística ao uso de técnicas eficientes de armazenamento e processamento e muitos outros recursos para que se possa aplicar modelos de aprendizado computacional. Para lidar e organizar a  complexidade desse processo, um processo de fases é geralmente aplicado. O **CRISP-DM, Cross Industry Standard Process for Data Mining** (Processo Padrão Inter-Indústrias para Mineração de Dados) é um processo de fases bastante aceito na indústria para representar um ciclo completo de Ciência e Análise de Dados, incluido a aplicação de modelos de Aprendizado de Máquina. Esse processo apresenta algumas variantes ao longo do tempo, como por exemplo a versão do Google em The Process for Data Preparation and Feature Engineering (ver https://developers.google.com/machine-learning/data-prep/process), mas de fato elas mudam bastante pouco o modelo CRISP e a essência do processo CRISP-DM é em geral preservada e é empregada na maior parte dos casos.   \n",
        "\n",
        "<small>\n",
        "Neste curso não daremos muita ênfase a este processo que é tratado em detalhes mais geralmente em cursos de Ciência de Dados.\n"
      ]
    },
    {
      "cell_type": "markdown",
      "metadata": {
        "id": "mkikcHbi26Uo"
      },
      "source": [
        "# As Fases do CRISP-DM\n",
        "\n",
        "As fases do modelo de referência CRISP-DM encontram-se resumidas no quadro abaixo.\n",
        "\n",
        "<br>\n",
        "<br>\n",
        "<img src=\"http://meusite.mackenzie.br/rogerio/TIC2021S1$/T1/crispvg.png\" width=1000, align=\"center\">\n",
        "<br>\n",
        "<br>\n",
        "\n",
        "<small><b>\n",
        "Fonte: http://meusite.mackenzie.br/rogerio/TIC2021S1/T1/crisp_visualguide.pdf\n",
        "</small></b>\n",
        "\n",
        "\n",
        "\n"
      ]
    },
    {
      "cell_type": "markdown",
      "metadata": {
        "id": "bfzvWl9sFX8m"
      },
      "source": [
        "# Aprendizado Supervisionado e Não Supervisionado\n",
        "\n",
        "O aprendizado supervisionado é uma abordagem de aprendizado de máquina definida pelo uso de conjuntos de dados rotulados. Por exemplo você pode ter dados de transações de crédito que são previamente rotulados como fraude ou não fraude, dados de exames de tumores rotulados como malignos ou benignos, ou ainda dados de imóveis *rotulados* com os seus preços. Esses dados funcionam como um conjunto de exemplos para o aprendizado de máquina, e são empregados para treinar ou *supervisionar* os algoritmos para classificar novos dados ou prever valores. O algoritmo busca um padrão para aproximar as entradas e saídas rotuladas e  medir a precisão dessa aproximação.\n",
        "\n",
        "Em geral o aprendizado supervisionado trata de dois tipos de problemas, ou tarefas: classificação ou regressão. A classificação de novas transações de crédito como fraude ou não fraude ou de dados de tumores como maligno ou benigno são do primeiro tipo e Árvores de Decisão e Regressão Logística são exemplos de algoritmos que podem ser empregados. A partir do conjunto de exemplos eles podem criar *mapeamento* (como uma função) do conjunto de dados de entrada (variáveis preditoras) e as respectivas categorias (os rótulos, fraude/não fraude ou maligno/benigno) que pode então ser aplicado a novos casos para a predição das categorias. A predição de valores (e não de categorias), como a predição do preço de imóveis, é um exemplo de problema de regressão e algoritmos como os de regressão linear ou uma rede neural, podem mapear entradas e os valores de saída (rótulos) de um conjunto de exemplos para estimar valores de novos imóveis que não fazem parte do conjunto inicial de *treinamento*.   \n",
        "\n"
      ]
    },
    {
      "cell_type": "markdown",
      "metadata": {
        "id": "NNDHUXAjO52R"
      },
      "source": [
        "![imagem](https://github.com/Rogerio-mack/BIG_DATA_Analytics_Mineracao_e_Analise_de_Dados/blob/main/figuras/ClassificationRegressionBreastCancer.png?raw=true)\n",
        "\n",
        "\n",
        "<small> <b>Acima um mesmo conjunto de dados para o aprendizado supervisionado de classificação e regressão. $y$ são os rótulos associados a cada instância de dados com variáveis preditoras $X$. Os modelos supervisionados criam, a partir dos exemplos do conjunto de treinamento, uma <i> função </i> que reproduz do mesmo padrão de mapeamento das entradas e saídas do conjunto de treinamento. </b>"
      ]
    },
    {
      "cell_type": "markdown",
      "metadata": {
        "id": "DvlBtw1JFzmF"
      },
      "source": [
        "# Aprendizado não Supervisionado\n",
        "\n",
        "O aprendizado não supervisionado usa algoritmos de aprendizado de máquina para analisar e agrupar conjuntos de dados não rotulados. São modelos mais analíticos que os modelos supervisionados que, em geral, buscam fornecer uma predição de valores ou categorias. A ideia desses algoritmos é encontrar  padrões ocultos nos dados sem a necessidade de qualquer intervenção humana ou *rótulos* pré-definidos e, por isso *não supervisionados*. \n",
        "\n",
        "Modelos de aprendizagem não supervisionados são empregados vários tipos de tarefas ou problemas e os principais são: agrupamentos (ou clusterização), associações, redução de dimensionalidade e detecção de anomalias.\n",
        "\n",
        "Clustering é uma técnica de mineração de dados para agrupar dados não rotulados com base em suas semelhanças ou diferenças. Algoritmos de agrupamento como o  K-médias ou Clusterização hierárquica permitem identificar dados semelhantes em grupos que se diferenciam dos demais e são empregados para segmentação de clientes, produtos etc. \n",
        "\n",
        "Algoritmos de Associação, como o *Apriori*, podem ser usados ​​para análises de cesta de compras ou sistemas de recomendação e permitem identificar que clientes que compram um determinado item também compram outro. Algoritmos como PCA (*Principal Component Analysis*), permitem reduzir a dimensionalidade de um grande número de atributos para facilitar a análise. E modelos de detecção de anomalia, como *SVM One-Classification*, são empregados para identificar uma anomalia, por exemplo no tráfego de internet de um site de compras ou em uma imagem de câmera que detecta movimento.\n",
        "\n",
        "![imagem](https://github.com/Rogerio-mack/BIG_DATA_Analytics_Mineracao_e_Analise_de_Dados/blob/main/figuras/NaoSupervisionado.png?raw=true)"
      ]
    },
    {
      "cell_type": "markdown",
      "metadata": {
        "id": "3P7vPuE9X7vk"
      },
      "source": [
        "<small> <b>Exemplos de Aprendizado Supervisionado. Você mesmo, apenas olhando as figuras, poderia identificar tanto os agrupamentos como as anomalias sem, entretanto, ter qualquer exemplo ou rótulos indicando esses grupos e esses pontos atípicos.  </b>"
      ]
    },
    {
      "cell_type": "markdown",
      "metadata": {
        "id": "s3zhMcDNGBtX"
      },
      "source": [
        "# Aprendizado Supervisionado *vs* Não Supervisionado\n",
        "\n",
        "A principal diferença entre aprendizagem supervisionada e não supervisionada é a presença de um conjunto de treinamento com esses dados rotulados para o aprendizado. O aprendizado supervisionado usa dados de entrada e saída rotuladas (classes ou valores), enquanto o aprendizado não supervisionado emprega somente os dados de entrada.\n",
        "\n",
        "Os modelos de aprendizado supervisionado sempre requerem algum tipo de intervenção humana inicial para rotular os dados o que é, em muitos casos um grande problema e você pode imaginar o esforço necessário para classificar (rotular) imagens ou notícias da internet, e a solução desse problema fundamental é uma forte área de pesquisa. Os modelos de aprendizagem não supervisionada por outro lado obtêm por conta própria a estrutura inerente dos dados não rotulados, mas requerem a intervenção humana para validar as variáveis ​​de saída sendo modelos de certo modo analíticos e não preditivos como os modelos Supervisionados. Por exemplo, uma clusterização pode identificar grupos distintos de clientes, mas não fornece qualquer informação de *quem* está nesses grupos e se algum desses grupos é útil para uma campanha de marketing ou uma promoção de vendas. O objetivo dos modelos supervisionados é prever resultados para novas instâncias de dados enquanto no aprendizado não supervisionado o objetivo é obter *insights* sobre os dados existentes. \n"
      ]
    },
    {
      "cell_type": "markdown",
      "metadata": {
        "id": "GbgX7NDcRXxQ"
      },
      "source": [
        "Outras técnicas de aprendizado que envolvem **aprendizado semi-supervisionado**, que utiliza apenas uma parte dos dados rotulados. Por exemplo, em uma rede social um usuário pode postar uma foto com uma outra pessoa e um algoritmo semi-supervisionado passa a reconhecer essa pessoa em outras fotos a partir do momento em que o usuário identifica essa pessoa em algumas fotos.  Já técnicas de **aprendizado por reforço**  empregam um sistema com um fator de recompensa para o aprendizado.  Nesse tipo  de aprendizado o treinamento é feito para  tomar uma sequência de decisões e um *agente* aprende a atingir uma meta em um ambiente incerto e potencialmente complexo. O agente efetua tentativas e erros para buscar encontrar uma solução a um problema recebendo recompensas ou penalidades a cada ação que realiza. Seu objetivo é maximizar a recompensa total que pode ser, por exemplo, obter um máximo de pontos em um jogo. Esse tipo de aprendizado é empregado principalmente em robótica e veículos autônomos e, aspiradores autônomos implementam em geral modelos simples desse tipo de aprendizado.\n",
        "\n",
        "<br>\n",
        "\n",
        "![imagem](https://media.springernature.com/lw685/springer-static/image/art%3A10.1038%2Fs41598-018-24876-0/MediaObjects/41598_2018_24876_Fig1_HTML.jpg?as=webp) \n",
        "\n",
        "<small><b>\n",
        "Pontos não previamente classificados podem ser classificados a partir de uma classificação, ou rotulação, parcial dos dados (fonte: Peikari,2018)\n",
        "\n",
        "\n",
        "<br>\n",
        "\n",
        "![imagem](https://upload.wikimedia.org/wikipedia/commons/1/1b/Reinforcement_learning_diagram.svg) \n",
        "\n",
        "<small><b>\n",
        "Esquemático do aprendizado por reforço. Um agente interpreta o ambiente e busca maximizar uma função de recompensa (fonte da imagem: Wikipedia)\n",
        "\n",
        "\n"
      ]
    },
    {
      "cell_type": "markdown",
      "metadata": {
        "id": "k4noMRT_YUd7"
      },
      "source": [
        "# Para Saber Mais\n",
        "\n",
        "* Neste curso você entender e aplicar vários modelos de aprendizado de máquina, começando  pelos modelos de aprendizado supervisionado. Que tal entender mais sobre esses modelos? Acesse, então ___.**What is Machine Learning?** Disponível em: https://c3.ai/introduction-what-is-machine-learning/supervised-learning/ Acesso em: 02 de Novembro de 2021. Esse texto trás e explica exmplos de aprendizado supervisionado para classificação e regressão de dados. \n",
        "\n",
        "* Acesse o artigo **Supervised vs. Unsupervised Learning: What’s the Difference?** Disponível em: https://www.ibm.com/cloud/blog/supervised-vs-unsupervised-learning lá você vai econtrar \n",
        "\n",
        "> * What is Supervised Learning? https://www.ibm.com/cloud/learn/supervised-learning \n",
        "> * What is Unsupervised Learning? https://www.ibm.com/cloud/learn/unsupervised-learning\n",
        "> * AI vs. Machine Learning vs. Deep Learning vs. Neural Networks: What's the Difference? https://www.ibm.com/cloud/blog/ai-vs-machine-learning-vs-deep-learning-vs-neural-networks\n"
      ]
    },
    {
      "cell_type": "markdown",
      "metadata": {
        "id": "fa24d435"
      },
      "source": [
        "# Referências"
      ]
    },
    {
      "cell_type": "markdown",
      "metadata": {
        "id": "zlJfWteFyhFy"
      },
      "source": [
        "Peres, S. M.; Fantinato, M. **Notas de Aula: Introdução à ciência de processos e\n",
        "ciência de dados como base para a mineração de processos – inteligência artificial e\n",
        "mineração de dados**. Grupo Process Mining @ USP, 2022.\n",
        "\n",
        "Copeland, M. (2016) **What’s the Difference Between Artificial Intelligence, Machine Learning and Deep Learning?** Disponível em: https://blogs.nvidia.com/blog/2016/07/29/whats-difference-artificial-intelligence-machine-learning-deep-learning-ai/ Acesso em: 02 de Fevereiro de 2022.\n",
        "\n",
        "Delua, Julianna **Supervised vs. Unsupervised Learning: What’s the Difference?** Disponível em: https://www.ibm.com/cloud/blog/supervised-vs-unsupervised-learning Acesso em: 02 de Novembro de 2021.\n",
        "\n",
        "Mwiti, Derrick **10 Real-Life Applications of Reinforcement Learning** Disponível em: https://neptune.ai/blog/reinforcement-learning-applications Acesso em: 02 de Novembro de 2021.\n",
        "\n",
        "Peikari, M., Salama, S., Nofech-Mozes, S. et al. **A Cluster-then-label Semi-supervised Learning Approach for Pathology Image Classification**. Sci Rep 8, 7193 (2018). https://doi.org/10.1038/s41598-018-24876-0 \n",
        "\n",
        "Kotu, Vijay; Deshpande, Balachandre **Data Science: concepts and practice**. 2nd ed. Cambridge, [England]: Morgan Kaufmann, c2019. E-book (570 p.) ISBN 9780128147627 (electronic bk.). Disponível em: http://pergamum.mackenzie.br:8080/pergamumweb/vinculos/00003c/00003cef.jpg.\n",
        "\n",
        "Dhar, V. (2013). **Data science and prediction**. Communications of the ACM, 56(12), 64–73. doi:10.1145/2500499 \n",
        "\n",
        "Alpaydin, E. **Machine Learning** (The MIT Press Essential Knowledge). The MIT Press. 2019.\n",
        "\n",
        "kelleher, John D.; Tierney, Brendan. **Data Science** (The MIT Press Essential Knowledge). The MIT Press. 2018.\n",
        "\n",
        "___.**What is Machine Learning?** Disponível em: https://c3.ai/introduction-what-is-machine-learning/supervised-learning/ Acesso em: 02 de Novembro de 2021.\n",
        "\n",
        "___.**Machine Learning and Data Science Applications in Industry** Disponível em: https://github.com/ashishpatel26/Real-time-ML-Project Acesso em: 02 de Novembro de 2021.\n"
      ]
    }
  ]
}